{
 "cells": [
  {
   "cell_type": "code",
   "execution_count": 6,
   "metadata": {
    "collapsed": true,
    "pycharm": {
     "name": "#%%\n"
    }
   },
   "outputs": [],
   "source": [
    "from Bio import SeqIO\n",
    "from Bio.Seq import Seq\n",
    "from Bio.SeqRecord import SeqRecord\n",
    "\n",
    "file = 'C:\\\\Users\\\\vuleq\\Desktop\\\\NA2D\\Leiden\\\\3UTRs_raw.txt'\n",
    "LINES_PER_REC = 4\n",
    "\n",
    "with open(file, 'r') as f:\n",
    "    lines = f.readlines()\n",
    "\n",
    "    descriptions = lines[0:-1:LINES_PER_REC]\n",
    "    accessions = lines[1:-1:LINES_PER_REC]\n",
    "    groups = lines[2:-1:LINES_PER_REC]\n",
    "    sequences = lines[3:-1:LINES_PER_REC]\n",
    "\n",
    "    descriptions = list(map(lambda x: x.rstrip(), descriptions))\n",
    "    accessions = list(map(lambda x: x.rstrip(), accessions))\n",
    "    groups = list(map(lambda x: x.rstrip(), groups))\n",
    "    sequences = list(map(lambda x: x.rstrip(), sequences))\n",
    "\n",
    "records = [SeqRecord(id=a,\n",
    "           description=f'{g}|{d}',\n",
    "           seq=Seq(s)) for a, g, d, s in\n",
    " zip(\n",
    "    accessions,\n",
    "    groups,\n",
    "    descriptions,\n",
    "    sequences\n",
    "    )]\n",
    "\n",
    "\n",
    "out_file = 'C:\\\\Users\\\\vuleq\\Desktop\\\\NA2D\\Leiden\\\\Flavivi_3UTRs.fa'\n",
    "with open(out_file, 'w') as fo:\n",
    "    SeqIO.write(records, fo, 'fasta')\n"
   ]
  }
 ],
 "metadata": {
  "kernelspec": {
   "display_name": "Python 3",
   "language": "python",
   "name": "python3"
  },
  "language_info": {
   "codemirror_mode": {
    "name": "ipython",
    "version": 2
   },
   "file_extension": ".py",
   "mimetype": "text/x-python",
   "name": "python",
   "nbconvert_exporter": "python",
   "pygments_lexer": "ipython2",
   "version": "2.7.6"
  }
 },
 "nbformat": 4,
 "nbformat_minor": 0
}